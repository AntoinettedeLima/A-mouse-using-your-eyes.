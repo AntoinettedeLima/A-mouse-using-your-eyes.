{
  "cells": [
    {
      "cell_type": "markdown",
      "metadata": {
        "id": "view-in-github",
        "colab_type": "text"
      },
      "source": [
        "<a href=\"https://colab.research.google.com/github/AntoinettedeLima/A-mouse-using-your-eyes./blob/main/20210522_Advanced_Mathematics_CW.ipynb\" target=\"_parent\"><img src=\"https://colab.research.google.com/assets/colab-badge.svg\" alt=\"Open In Colab\"/></a>"
      ]
    },
    {
      "cell_type": "code",
      "source": [
        "#Question 1:a)\n",
        "\n",
        "import numpy as np\n",
        "import sympy as sym\n",
        "import matplotlib.pyplot as plt\n",
        "\n",
        "x = sym.symbols('x')\n",
        "\n",
        "def f(x):\n",
        "    if 0 > x >= -np.pi:\n",
        "        return x ** 2 + 1\n",
        "    elif 0 <= x <= np.pi:\n",
        "        return x * np.exp(-1)\n",
        "\n",
        "xValues = np.arange(-4 * np.pi, 4 * np.pi, 0.01)\n",
        "yValues = [f(x) for x in xValues]\n",
        "\n",
        "plt.title(\"PF\")\n",
        "plt.xlabel=(\"y\")\n",
        "plt.ylabel=(\"x\")\n",
        "plt.plot(xValues, yValues)\n",
        "plt.show()"
      ],
      "metadata": {
        "id": "PXQKkLOPUinX"
      },
      "execution_count": null,
      "outputs": []
    },
    {
      "cell_type": "code",
      "source": [
        "#Question 1:b)\n",
        "import numpy as np\n",
        "import sympy as sym\n",
        "import matplotlib.pyplot as plt\n",
        "from scipy import integrate\n",
        "\n",
        "#Defining variables\n",
        "x = sym.symbols(\"x\")\n",
        "n = sym.symbols(\"n\", integer='True', positive='True')\n",
        "\n",
        "#an empty array to store the fourier series expansion\n",
        "ms = np.empty(11, dtype=object)\n",
        "\n",
        "#equations\n",
        "eq1 = (x ** 2) + 1\n",
        "eq2 = x * sym.exp(-x)\n",
        "\n",
        "#Defining the general formulas of the fourier series co-efficients\n",
        "a0 = (1 / sym.pi) * (eq1.integrate((x, -sym.pi, 0)) + eq2.integrate((x, 0, sym.pi)))\n",
        "print(\"a0 = \", a0)\n",
        "\n",
        "an = (1 / sym.pi) * (sym.integrate((eq1 * sym.cos(n * x)), (x, -sym.pi, 0)) + sym.integrate((eq2 * sym.cos(n * x)), (x, 0, sym.pi)))\n",
        "print(\"an = \", an)\n",
        "\n",
        "bn = (1 / sym.pi) * (sym.integrate((eq1 * sym.sin(n * x)), (x, -sym.pi, 0)) + sym.integrate((eq2 * sym.sin(n * x)), (x, 0, sym.pi)))\n",
        "print(\"bn = \", bn)\n",
        "\n",
        "#First value- a0/2\n",
        "ms[0] = a0/2\n",
        "\n",
        "#To iterate and place values inside the ms[] array\n",
        "i = 1\n",
        "#first 5 terms of the fourier series expansion for an values\n",
        "for n in range(1, 6):\n",
        "    an = (1 / sym.pi) * (sym.integrate((eq1 * sym.cos(n * x)), (x, -sym.pi, 0)) + sym.integrate((eq2 * sym.cos(n * x)), (x, 0, sym.pi))) * sym.cos(n * x)\n",
        "    ms[i] = an\n",
        "    i += 1\n",
        "\n",
        "i = 6\n",
        "#first 5 terms of the fourier series expansion for bn values\n",
        "for n in range(1, 6):\n",
        "    bn = (1 / sym.pi) * (sym.integrate((eq1 * sym.sin(n * x)), (x, -sym.pi, 0)) + sym.integrate((eq2 * sym.sin(n * x)), (x, 0, sym.pi))) * sym.sin(n * x)\n",
        "    ms[i] = bn\n",
        "    i += 1\n",
        "print(\"Fourier Series Expansion up to first 5 terms = \", ms, end=\"\")"
      ],
      "metadata": {
        "id": "ZmDqnr8FclHC"
      },
      "execution_count": null,
      "outputs": []
    },
    {
      "cell_type": "code",
      "source": [
        "#Question 1:c)\n",
        "import math\n",
        "import numpy as np\n",
        "import sympy as sym\n",
        "import matplotlib.pyplot as plt\n",
        "from scipy.signal.bsplines import arange\n",
        "for m in range(0,1000):\n",
        "  if 0 < arange[m] < np.pi:\n",
        "    y[100,m]=arange[m]**2\n",
        "  elif 2*np.pi < arange[m] <= 3*np.pi:\n",
        "    y[100,m]= (arange[m] -2*np.pi)**2\n",
        "  elif -2*np.pi < arange[m] <= np.pi:\n",
        "    y[100,m]= (arange[m] +2*np.pi)**2\n",
        "plt.plot(arange, y[0,:])\n",
        "plt.plot(arange, y[4,:])\n",
        "plt.plot(arange, y[149,:])\n",
        "plt.legend([\"1\", \"5\", \"150\",\"func\"])\n",
        "plt.show()"
      ],
      "metadata": {
        "id": "mawcFG59Acq7"
      },
      "execution_count": null,
      "outputs": []
    },
    {
      "cell_type": "code",
      "source": [
        "#Question 1:d)\n",
        "import math\n",
        "import numpy as np\n",
        "import sympy as sym\n",
        "import matplotlib.pyplot as plt\n",
        "from scipy.signal.bsplines import arange\n",
        "def f(x):\n",
        "    return np.where((x>= -np.pi)&(x<0),(x**2)+1,np.where((x>=0)&(x<np.pi),x*np.exp(-x),0))\n",
        "def har(x,n):\n",
        "    return np.sin(n*x)/n\n",
        "def rmse(f,har,x):\n",
        "    return np.sqrt(np.mean(np.square(f-har)))\n",
        "    \n",
        "xrange = np.linspace(-4*np.pi, 4*np.pi, 1000)\n",
        "RMSE = []\n",
        "for n in range(1,151):\n",
        "    RMSE.append(rmse(f(xrange),har(xrange,n),xrange))\n",
        "\n",
        "print(\"root mean square error between f(x) and It's first harmonic = \", RMSE[0] )\n",
        "print(\"root mean square error between f(x) and Upto it's fifth harmonic = \", RMSE[4])\n",
        "print(\"root mean square error between f(x) and Up to the 150th harmonic = \",RMSE[149])"
      ],
      "metadata": {
        "id": "O6IYCciQAero"
      },
      "execution_count": null,
      "outputs": []
    },
    {
      "cell_type": "code",
      "source": [
        "#Question 2\n",
        "#range valuess\n",
        "import numpy as np\n",
        "import matplotlib.pyplot as plt\n",
        "import scipy.fftpack as sfft\n",
        "\n",
        "Range1 = np.arange(-np.pi, np.pi, 0.5)\n",
        "Range2 = np.arange(-np.pi, np.pi, 0.05)\n",
        "\n",
        "#functions\n",
        "Equation1 = np.sin(Range1) + 0.25 * np.cos(2 * Range1)\n",
        "Equation2 = np.sin(2 * Range2) + np.sin(2 * Range2)\n",
        "\n",
        "#fast fourier transformation\n",
        "Equation1_dft1 = sfft.fft(Equation1)\n",
        "Equation2_dft2 = sfft.fft(Equation2)\n",
        "\n",
        "#plotting\n",
        "plt.plot(Range1, Equation1)\n",
        "plt.plot(Range2, Equation2)\n",
        "\n",
        "#plotting of transformed functions \n",
        "plt.plot(Range1, np.real(Equation1_dft1))\n",
        "plt.plot(Range2, np.real(Equation2_dft2))\n",
        "\n",
        "plt.legend([\"200Hz\", \"100Hz\", \"fft 200Hz\", \"fft 100Hz\"])\n",
        "plt.show()\n",
        "\n",
        "#I have taken two frequency signals with 200Hz and 100Hz.it will plot a graph with two peaks. \n",
        "#But because of misidentification of a signal frequency, it might show additional change in frequency values if the sample rate is not high enough. \n",
        "#Therefore, in conclusion we can see that if the sampling rate isn't accurate to show high-frequencies which are prone to aliasing"
      ],
      "metadata": {
        "id": "6mngRItjVWqX"
      },
      "execution_count": null,
      "outputs": []
    },
    {
      "cell_type": "code",
      "source": [
        "#Question 3:a)\n",
        "import math\n",
        "import numpy as np\n",
        "import sympy as sym\n",
        "import matplotlib.pyplot as plt\n",
        "\n",
        "x = sym.symbols('x')\n",
        "eq = x*sym.cos(x/2)\n",
        "f = sym.lambdify(x,eq,'numpy')\n",
        "x1 = np.arange(-5*math.pi,7*math.pi+1,0.01)\n",
        "y1 = f(x1)\n",
        "plt.plot(x1, y1)\n",
        "plt.show()"
      ],
      "metadata": {
        "id": "3_BaGnN30M1f"
      },
      "execution_count": null,
      "outputs": []
    },
    {
      "cell_type": "code",
      "source": [
        "#Question 3:b)\n",
        "def func_cos(x,n):\n",
        "    cos_approx = 0\n",
        "    for i in range(n):\n",
        "        coef = (-1)**i\n",
        "        num = x**(2*i)\n",
        "        denom = math.factorial(2*i)\n",
        "        cos_approx += (coef)*((num)/(denom))\n",
        "\n",
        "    return cos_approx\n",
        "\n",
        "angle_rad = (math.radians(90))\n",
        "out = func_cos(angle_rad,5)\n",
        "print(out)"
      ],
      "metadata": {
        "id": "E41xwUpb2PWP"
      },
      "execution_count": null,
      "outputs": []
    },
    {
      "cell_type": "code",
      "source": [
        "#Question 3:c)\n",
        "x = sym.symbols('x')\n",
        "eq = sym.cos(x)\n",
        "ms = np.empty(60,dtype=object)\n",
        "\n",
        "xrange = np.linspace(5,-5,500)\n",
        "y = np.zeros([61,500])\n",
        "ms[0] = eq.subs(x,0)\n",
        "ms[0]\n",
        "f= sym.lambdify(x,ms[0],'numpy')\n",
        "y[0,:] = f(xrange)\n",
        "\n",
        "for n in range(1,60):\n",
        "  ms[n]= ms[n-1]+eq.diff(x,n).subs(x,0)*(x**n)/(np.math.factorial(n))\n",
        "  print(n+1, \":\", ms[n])\n",
        "  f=sym.lambdify(x, ms[n],'numpy')\n",
        "  y[n,:] = f(xrange)\n",
        "\n",
        "f= sym.lambdify(x,eq,'numpy')\n",
        "y[20,:] = f(xrange)\n",
        "plt.plot(xrange, y[0,:])\n",
        "plt.plot(xrange, y[4,:])\n",
        "plt.plot(xrange, y[9,:])\n",
        "plt.plot(xrange, y[60,:])\n",
        "\n",
        "plt.legend([\"1\",\"5\",\"10\",\"60\"])\n",
        "plt.show()"
      ],
      "metadata": {
        "id": "RyDZFmXl3Vfl"
      },
      "execution_count": null,
      "outputs": []
    },
    {
      "cell_type": "code",
      "source": [
        "#Question 3:d)\n",
        "import math\n",
        "import sympy as sym\n",
        "import numpy as np\n",
        "import matplotlib.pyplot as plt\n",
        "def func_cos(x, n):\n",
        "    cos_approx = 0\n",
        "    for i in range(n):\n",
        "        coef = (-1)**i\n",
        "        num = x**(2*i)\n",
        "        denom = math.factorial(2 * i)\n",
        "        cos_approx += (coef)*((num)/(denom))\n",
        "    return cos_approx\n",
        "angle_rad = (math.radians(30))\n",
        "coef_term = math.radians(60)\n",
        "out_new1 = coef_term*func_cos(angle_rad,5)\n",
        "print(out_new1)\n",
        "angles_d = np.arange(-2*np.pi,2*np.pi,0.1)\n",
        "p_cos_d = np.cos(angles_d)\n",
        "t_cos_d = [coef_term*func_cos(angle,3) for angle in angles_d]\n",
        "fig, ax = plt.subplots()\n",
        "ax.plot(angles_d,p_cos_d)\n",
        "ax.plot(angles_d,t_cos_d)\n",
        "ax.set_ylim([-10,10])\n",
        "ax.legend(['Taylor Series -3terms','cos() function'])\n",
        "plt.show()\n",
        "original_value = coef_term *  math.cos(angle_rad)\n",
        "print(original_value)"
      ],
      "metadata": {
        "id": "M0mMzNO6Alga"
      },
      "execution_count": null,
      "outputs": []
    },
    {
      "cell_type": "code",
      "source": [
        "#Question 04:a)\n",
        "import numpy as np\n",
        "import scipy.fftpack as sfft\n",
        "import matplotlib.pyplot as plt\n",
        "\n",
        "img = mpimg.imread(\"/Fruit.jpg\")\n",
        "\n",
        "#fft\n",
        "imgf = sfft.fft2(img)\n",
        "plt.imshow(np.abs(imgf))\n",
        "plt.show()\n",
        "\n",
        "#with fft shift\n",
        "imgf = sfft.fftshift(imgf)\n",
        "plt.imshow(np.abs(imgf))\n",
        "plt.show()\n",
        "\n",
        "#inverse fft\n",
        "img1 = sfft.ifft2(imgf)\n",
        "plt.imshow(np.abs(img1))\n",
        "plt.show()\n",
        "\n",
        "#removing high frequencies\n",
        "imgf1 = np.zeros((360,360),dtype=complex)\n",
        "c = 180\n",
        "r = 50\n",
        "for m in range(0,360):\n",
        "    for n in range(0,360):\n",
        "        if (np.sqrt(((m-c)**2 + (n-c)**2))<r):\n",
        "            imgf1[m,n] = imgf[m,n]\n",
        "\n",
        "plt.imshow(np.abs(imgf1))\n",
        "plt.show()\n",
        "\n",
        "img1 = sfft.ifft2(imgf1)\n",
        "plt.imshow(np.abs(img1))\n",
        "plt.show()\n",
        "\n",
        "#removing low frequencies\n",
        "imgf1 = np.zeros((360,360),dtype=complex)\n",
        "c = 180\n",
        "r = 90\n",
        "for m in range(0,360):\n",
        "    for n in range(0,360):\n",
        "        if (np.sqrt(((m-c)**2 + (n-c)**2))>r):\n",
        "            imgf1[m,n] = imgf[m,n]\n",
        "\n",
        "plt.imshow(np.abs(imgf1))\n",
        "plt.show()\n",
        "\n",
        "img1 = sfft.ifft2(imgf1)\n",
        "plt.imshow(np.abs(img1))\n",
        "plt.show()"
      ],
      "metadata": {
        "id": "gV9azhCamA1a"
      },
      "execution_count": null,
      "outputs": []
    },
    {
      "cell_type": "code",
      "source": [
        "#Quetion 4:b)\n",
        "import numpy as np\n",
        "import scipy.fftpack as sfft\n",
        "import scipy.signal as signal\n",
        "import matplotlib.pyplot as plt\n",
        "import matplotlib.image as mpimg\n",
        "\n",
        "img = mpimg.imread(\"/Fruit.jpg\")\n",
        "\n",
        "kernel = np.outer(signal.gaussian(360, 5), signal.gaussian(360, 5))\n",
        "kf = sfft.fft2(sfft.ifftshift(kernel)) \n",
        "\n",
        "plt.imshow(np.abs(kf))\n",
        "plt.show()\n",
        "imgf = sfft.fft2(img)\n",
        "\n",
        "plt.imshow(np.abs(kf))\n",
        "plt.show()\n",
        "img_b = imgf*kf\n",
        "\n",
        "plt.imshow(np.abs(img_b))\n",
        "plt.show()\n",
        "img1 = sfft.ifft2(img_b)\n",
        "\n",
        "plt.imshow(np.abs(img1))\n",
        "plt.show()"
      ],
      "metadata": {
        "id": "61LB1f4JYyNL"
      },
      "execution_count": null,
      "outputs": []
    },
    {
      "cell_type": "code",
      "source": [
        "#Quetion 4:c)\n",
        "import numpy as np\n",
        "import matplotlib.pyplot as plt\n",
        "import matplotlib.image as mpimg\n",
        "import scipy.fftpack as sfft\n",
        "\n",
        "img = mpimg.imread(\"/Fruit.jpg\")\n",
        "\n",
        "#DCT\n",
        "imgc = sfft.dct((sfft.dct(img,norm='ortho')).T,norm='ortho')\n",
        "plt.imshow(imgc)\n",
        "plt.show()\n",
        "\n",
        "#IDCT\n",
        "img1 = sfft.idct((sfft.idct(imgc,norm='ortho')).T,norm='ortho')\n",
        "plt.imshow(img1)\n",
        "plt.show()\n",
        "\n",
        "#Removing high frequency components\n",
        "imgc1 = np.zeros((360,360))\n",
        "imgc1[:120,:120] = imgc[:120,:120]\n",
        "img1 = sfft.idct((sfft.idct(imgc1,norm='ortho')).T,norm='ortho')\n",
        "plt.imshow(img1)\n",
        "plt.show()\n",
        "\n",
        "#Scaling\n",
        "imgc2 = imgc[0:120,0:120]\n",
        "img1 = sfft.idct((sfft.idct(imgc2,norm='ortho')).T,norm='ortho')\n",
        "plt.imshow(img1)\n",
        "plt.show()"
      ],
      "metadata": {
        "id": "7-1zBdSAtU-u"
      },
      "execution_count": null,
      "outputs": []
    },
    {
      "cell_type": "code",
      "source": [
        "#Question 4:d)\n",
        "import matplotlib.image as mpimg\n",
        "img = mpimg.imread(\"/Fruit.jpg\")\n",
        "imgc = sfft.dct((sfft.dct(img, norm='ortho')).T, norm='ortho')\n",
        "mgc1 = np.zeros((360, 360))\n",
        "imgc1 = imgc[:120, :120]\n",
        "\n",
        "img1 = sfft.idct((sfft.idct(imgc1, norm='ortho')).T, norm='ortho')\n",
        "plt.imshow(imgc)\n",
        "plt.show()"
      ],
      "metadata": {
        "id": "IDkum8UdAxJR"
      },
      "execution_count": null,
      "outputs": []
    },
    {
      "cell_type": "code",
      "source": [
        "#Question 5:a)\n",
        "import math\n",
        "import sympy as sym\n",
        "import matplotlib.pyplot as plt\n",
        "import numpy as np\n",
        "from sympy import diff\n",
        "from sympy.abc import t, y\n",
        "x = sym.symbols('x')\n",
        "eq = 1/(1 + sym.exp(-x))\n",
        "f = sym.lambdify(x,eq,'numpy')\n",
        "range = np.arange(1,10,0.01)\n",
        "y = f(range)\n",
        "plt.plot(range, y)\n",
        "plt.show()"
      ],
      "metadata": {
        "id": "EMWefmd0A0id"
      },
      "execution_count": null,
      "outputs": []
    },
    {
      "cell_type": "code",
      "source": [
        "#Question 5:b)\n",
        "import math\n",
        "import sympy as sym\n",
        "import matplotlib.pyplot as plt\n",
        "import numpy as np\n",
        "from sympy.abc import t, y\n",
        "x = sym.symbols('x')\n",
        "eq1 = 1/(1 + sym.exp(-x))\n",
        "eq2 = sym.diff(eq1)\n",
        "f = sym.lambdify(x, eq2, 'numpy')\n",
        "valuesOfx = np.arange(-100, 100, 0.01)\n",
        "valuesOfy = f(valuesOfx)\n",
        "plt.plot(valuesOfx, valuesOfy)\n",
        "plt.show()"
      ],
      "metadata": {
        "id": "ouz-9SkSA2YM"
      },
      "execution_count": null,
      "outputs": []
    },
    {
      "cell_type": "code",
      "source": [
        "#Question 5:c) a)\n",
        "import math\n",
        "import sympy as sym\n",
        "import matplotlib.pyplot as plt\n",
        "import numpy as np\n",
        "from sympy import diff\n",
        "from sympy.abc import t, y\n",
        "x1 = sym.symbols('2x')\n",
        "eq2 = sym.sin(sym.sin(x1))\n",
        "f2 = sym.lambdify(x1,eq2,'numpy')\n",
        "range_2 = np.arange(-30,30,0.1)\n",
        "y2 = f2(range_2)\n",
        "plt.plot(range_2, y2)\n",
        "plt.show()"
      ],
      "metadata": {
        "id": "Z-vsPXWxA4h1"
      },
      "execution_count": null,
      "outputs": []
    },
    {
      "cell_type": "code",
      "source": [
        "#Question 5:c) b)\n",
        "import math\n",
        "import numpy as np\n",
        "import sympy as sym\n",
        "from sympy import diff\n",
        "from sympy.abc import t, y\n",
        "import matplotlib.pyplot as plt\n",
        "x = sym.symbols('x')\n",
        "eq = (-x*3)-(2*x**2)+(3*x)+10\n",
        "f = sym.lambdify(x, eq, 'numpy')\n",
        "valuesOfx =  np.arange(-100, 100, 0.01)\n",
        "valuesOfy = f(valuesOfx)\n",
        "plt.plot(valuesOfx, valuesOfy)\n",
        "plt.show()"
      ],
      "metadata": {
        "id": "Gt1nrcyIA6sF"
      },
      "execution_count": null,
      "outputs": []
    },
    {
      "cell_type": "code",
      "source": [
        "#Question 5:c) c)\n",
        "import math\n",
        "import sympy as sym\n",
        "import matplotlib.pyplot as plt\n",
        "import numpy as np\n",
        "from sympy.abc import t, y\n",
        "eq4 = sym.exp(-0.8*x)\n",
        "f4 = sym.lambdify(x, eq4, 'numpy')\n",
        "range_4 = np.arange(-30, 30,0.1)\n",
        "y4 = f4(range_4)\n",
        "plt.plot(range_4, y4)\n",
        "plt.show()"
      ],
      "metadata": {
        "id": "eUCKfixpGJ5K"
      },
      "execution_count": null,
      "outputs": []
    },
    {
      "cell_type": "code",
      "source": [
        "#Question 5:c) d)\n",
        "import math\n",
        "import sympy as sym\n",
        "import matplotlib.pyplot as plt\n",
        "import numpy as np\n",
        "from sympy.abc import t, y\n",
        "eq5 = x**2*sym.cos(sym.cos(2*x)) - 2*sym.sin(sym.sin(x-(math.pi/3)))\n",
        "f5 = sym.lambdify(x, eq5, 'numpy')\n",
        "range_5 = np.arange(-30, 30, 0.1)\n",
        "y5 = f5(range_5)\n",
        "plt.plot(range_5, y5)\n",
        "plt.show()"
      ],
      "metadata": {
        "id": "l0CrdzROQqiF"
      },
      "execution_count": null,
      "outputs": []
    },
    {
      "cell_type": "code",
      "source": [
        "#Question 5:c) e)\n",
        "import math\n",
        "import sympy as sym\n",
        "import matplotlib.pyplot as plt\n",
        "import numpy as np\n",
        "from sympy.abc import t, y\n",
        "# defining the function\n",
        "# if − 𝜋 ≤ 𝑥 < 0 the function is 2 * sym.cos(x + sym.pi / 6)\n",
        "# else if 0 ≤ 𝑥 ≤ 𝜋 the function is x * sym.exp(-0.4 * (x ** 2))\n",
        "# else if x < -𝜋 add 2𝜋 to x\n",
        "# else if x > 𝜋 reduce 2𝜋 to x\n",
        "def g(x):\n",
        "    if (x >= -sym.pi) and (x < 0):\n",
        "        y = 2 * sym.cos(x + sym.pi / 6)\n",
        "    if (x >= 0) and (x < sym.pi):\n",
        "        y = x * sym.exp(-0.4 * (x ** 2))\n",
        "    if x < -sym.pi:\n",
        "        X = x + 2 * sym.pi\n",
        "        y = g(X)\n",
        "    if x > sym.pi:\n",
        "        X = x - 2 * sym.pi\n",
        "        y = g(X)\n",
        "    return y\n",
        "\n",
        "\n",
        "# x-axis values are with thin range of [-4π,4π].\n",
        "valuesOfx = np.arange(-4 * np.pi, 4 * np.pi, 0.01)\n",
        "# y-axis values are found by substituting valuesOfx into the correct function\n",
        "# therefore y values = [g(x) for x in valuesOfx]\n",
        "plt.plot(valuesOfx, [g(x) for x in valuesOfx])\n",
        "plt.show()"
      ],
      "metadata": {
        "id": "V5YfRA24TmWG"
      },
      "execution_count": null,
      "outputs": []
    },
    {
      "cell_type": "code",
      "source": [
        "#Question 5:d) a)\n",
        "import math\n",
        "import sympy as sym\n",
        "import matplotlib.pyplot as plt\n",
        "import numpy as np\n",
        "from sympy.abc import t, y\n",
        "x=sym.symbols('x')\n",
        "eq = (1/1 + sym.exp(-(sym.sin(sym.sin(2*x)))))\n",
        "f = sym.lambdify(x, eq, 'numpy')\n",
        "valuesOfx = np.arange(-100, 100, 0.01)\n",
        "valuesOfy = f(valuesOfx)\n",
        "plt.plot(valuesOfx, valuesOfy)\n",
        "plt.show()"
      ],
      "metadata": {
        "id": "ZCLNYIACYIY7"
      },
      "execution_count": null,
      "outputs": []
    },
    {
      "cell_type": "code",
      "source": [
        "#Question 5:d) b)\n",
        "import math\n",
        "import sympy as sym\n",
        "import numpy as np\n",
        "from sympy.abc import t, y\n",
        "x=sym.symbols('x')\n",
        "eq = 1/(1 + sym.exp(-(-x**3 - 2*x**2 + 3*x + 10)))\n",
        "f = sym.lambdify(x, eq, 'numpy')\n",
        "valuesOfx = np.arange(-100, 100, 0.01)\n",
        "valuesOfy = f(valuesOfx)\n",
        "plt.plot(valuesOfx, valuesOfy)\n",
        "plt.show()"
      ],
      "metadata": {
        "id": "ELLPRxHYi-jq"
      },
      "execution_count": null,
      "outputs": []
    },
    {
      "cell_type": "code",
      "source": [
        "#Question 5:d) c)\n",
        "import math\n",
        "import sympy as sym\n",
        "import numpy as np\n",
        "from sympy.abc import t, y\n",
        "x=sym.symbols('x')\n",
        "eq = 1/(1 + sym.exp(-sym.exp(-0.8*x)))\n",
        "f = sym.lambdify(x, eq, 'numpy')\n",
        "valuesOfx = np.arange(-100, 100, 0.01)\n",
        "valuesOfy = f(valuesOfx)\n",
        "plt.plot(valuesOfx, valuesOfy)\n",
        "plt.show()"
      ],
      "metadata": {
        "id": "79qtW9BEopx6"
      },
      "execution_count": null,
      "outputs": []
    },
    {
      "cell_type": "code",
      "source": [
        "#Question 5:d) d)\n",
        "import math\n",
        "import sympy as sym\n",
        "import numpy as np\n",
        "from sympy.abc import t, y\n",
        "x=sym.symbols('x')\n",
        "eq = 1/(1 + sym.exp(-x**2*sym.cos(sym.cos(2*x)) - 2*sym.sin(sym.sin(x-(math.pi/3)))))\n",
        "f = sym.lambdify(x, eq, 'numpy')\n",
        "valuesOfx = np.arange(-100, 100, 0.01)\n",
        "valuesOfy = f(valuesOfx)\n",
        "plt.plot(valuesOfx, valuesOfy)\n",
        "plt.show()"
      ],
      "metadata": {
        "id": "pHOOrgp2qNtE"
      },
      "execution_count": null,
      "outputs": []
    },
    {
      "cell_type": "code",
      "source": [
        "#Question 5:d) e)\n",
        "import math\n",
        "import sympy as sym\n",
        "import numpy as np\n",
        "from sympy.abc import t, y\n",
        "def g(x):\n",
        "    if (x >= -sym.pi) and (x < 0):\n",
        "        y = 2 * sym.cos(x + sym.pi / 6)\n",
        "    if (x >= 0) and (x < sym.pi):\n",
        "        y = x * sym.exp(-0.4 * (x ** 2))\n",
        "    if x < -sym.pi:\n",
        "        X = x + 2 * sym.pi\n",
        "        y = g(X)\n",
        "    if x > sym.pi:\n",
        "        X = x - 2 * sym.pi\n",
        "        y = g(X)\n",
        "    return y\n",
        "valuesOfx = np.arange(-4*np.pi, 4*np.pi, 0.01)\n",
        "valuesOfy = f(valuesOfx)\n",
        "plt.plot(valuesOfx, [g(x) for x in valuesOfx])\n",
        "plt.show()"
      ],
      "metadata": {
        "id": "QbNQLXTNqj2k"
      },
      "execution_count": null,
      "outputs": []
    }
  ],
  "metadata": {
    "colab": {
      "provenance": [],
      "authorship_tag": "ABX9TyNCqo1pb1Rz3Y25Ka32aV3O",
      "include_colab_link": true
    },
    "kernelspec": {
      "display_name": "Python 3",
      "name": "python3"
    },
    "language_info": {
      "name": "python"
    }
  },
  "nbformat": 4,
  "nbformat_minor": 0
}